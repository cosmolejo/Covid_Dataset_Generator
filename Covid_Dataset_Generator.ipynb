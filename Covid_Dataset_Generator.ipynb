{
  "nbformat": 4,
  "nbformat_minor": 0,
  "metadata": {
    "colab": {
      "name": "Covid_Dataset_Generator",
      "provenance": [],
      "collapsed_sections": [],
      "toc_visible": true
    },
    "kernelspec": {
      "name": "python3",
      "display_name": "Python 3"
    }
  },
  "cells": [
    {
      "cell_type": "markdown",
      "metadata": {
        "id": "PvSH7xuOPb1n",
        "colab_type": "text"
      },
      "source": [
        "# Covid Dataset Generator\n",
        "\n",
        "Script Diseñado para obtener información de casos confirmados, muertes y recuperados del Covid-19 para Colombia e Italia a partir de los datos provistos por la API:\n",
        "\n",
        "https://covid-api.quintessential.gr\n",
        "\n",
        "\n",
        "\n",
        "#Desarrollado por:\n",
        "## Alejandro Mesa Gómez <a href=\"https://twitter.com/cosmolejo\"> @Cosmolejo</a> <a href=\"https://github.com/cosmolejo/\"> Github</a>\n",
        "\n",
        "\n",
        "<a rel=\"license\" href=\"http://creativecommons.org/licenses/by/4.0/\"><img alt=\"Licencia Creative Commons\" style=\"border-width:0\" src=\"https://i.creativecommons.org/l/by/4.0/88x31.png\" /></a><br />Esta obra está bajo una <a rel=\"license\" href=\"http://creativecommons.org/licenses/by/4.0/\">Licencia Creative Commons Atribución 4.0 Internacional</a>.\n"
      ]
    },
    {
      "cell_type": "markdown",
      "metadata": {
        "id": "FC02ka0lRddo",
        "colab_type": "text"
      },
      "source": [
        "# Paquetes"
      ]
    },
    {
      "cell_type": "code",
      "metadata": {
        "id": "0FMq-VlgPakH",
        "colab_type": "code",
        "colab": {}
      },
      "source": [
        "import pandas as pd\n",
        "import requests\n",
        "import numpy as np\n",
        "import datetime\n",
        "import progressbar"
      ],
      "execution_count": 0,
      "outputs": []
    },
    {
      "cell_type": "markdown",
      "metadata": {
        "id": "D8Ssj4rlR7WH",
        "colab_type": "text"
      },
      "source": [
        "# Inicialización de arreglos y fecha inicial\n",
        "\n"
      ]
    },
    {
      "cell_type": "code",
      "metadata": {
        "id": "JLH0jroRSOt_",
        "colab_type": "code",
        "colab": {}
      },
      "source": [
        "# Italy\n",
        "itCases = [] #casos\n",
        "itDeaths = [] #muertes\n",
        "itRec = [] # recuperados\n",
        "\n",
        "# Colombia\n",
        "\n",
        "colCases=[] \n",
        "colDeaths=[]\n",
        "colRec = []"
      ],
      "execution_count": 0,
      "outputs": []
    },
    {
      "cell_type": "code",
      "metadata": {
        "id": "7TJghxzsYGm5",
        "colab_type": "code",
        "colab": {}
      },
      "source": [
        "dateinit=datetime.datetime(2020, 1, 31)"
      ],
      "execution_count": 0,
      "outputs": []
    },
    {
      "cell_type": "markdown",
      "metadata": {
        "id": "syh5CZJUeEuZ",
        "colab_type": "text"
      },
      "source": [
        "# Fecha final de la consulta\n"
      ]
    },
    {
      "cell_type": "code",
      "metadata": {
        "id": "q5z14iv1eD1Y",
        "colab_type": "code",
        "colab": {}
      },
      "source": [
        "datefin=datetime.datetime(2020, 3, 26)"
      ],
      "execution_count": 0,
      "outputs": []
    },
    {
      "cell_type": "markdown",
      "metadata": {
        "id": "FLNKD5jGiBDx",
        "colab_type": "text"
      },
      "source": [
        "# Arreglo de fechas"
      ]
    },
    {
      "cell_type": "code",
      "metadata": {
        "id": "0KqtNg75iF52",
        "colab_type": "code",
        "colab": {}
      },
      "source": [
        "def dateGenerator():\n",
        "    date=dateinit\n",
        "    while date != datefin:\n",
        "        yield f\"{date.month}-{date.day}-{date.year}\"\n",
        "        date+=datetime.timedelta(days=1)\n",
        "\n",
        "fechasit=[i for i in dateGenerator()]\n"
      ],
      "execution_count": 0,
      "outputs": []
    },
    {
      "cell_type": "markdown",
      "metadata": {
        "id": "QEerF5ZvaZWP",
        "colab_type": "text"
      },
      "source": [
        "# Función de consulta\n",
        "\n"
      ]
    },
    {
      "cell_type": "code",
      "metadata": {
        "id": "hGXu1ntnSwA3",
        "colab_type": "code",
        "colab": {}
      },
      "source": [
        "def query(fecha,pais):\n",
        "  \"\"\"Función de consulta de la api para obtener datos del covid 19\n",
        "     \n",
        "     fecha= objeto tipo datetime\n",
        "     pais = string con el nombre del pais en ingles, todo en minusculas\n",
        "\n",
        "     retorno: (casos confirmados, muertes, recuperados)\n",
        "  \"\"\"\n",
        "  response= requests.get(f'https://covid-api.quintessential.gr/data/custom?country={pais}&date={fecha.month}-{fecha.day}-{fecha.year}')\n",
        "  response.encoding = 'utf-8' # Optional: requests infers this internally\n",
        "  if(response.text=='[]'):\n",
        "    return (0,0,0)\n",
        "  else:\n",
        "    vals=response.json()[0]\n",
        "    \n",
        "    return eval(vals[\"Confirmed\"]),0 if vals[\"Deaths\"] == '' else eval(vals[\"Deaths\"]) ,0 if vals[\"Recovered\"] == '' else eval(vals[\"Recovered\"])"
      ],
      "execution_count": 0,
      "outputs": []
    },
    {
      "cell_type": "markdown",
      "metadata": {
        "id": "Z3dc8DPQd58x",
        "colab_type": "text"
      },
      "source": [
        "# Llenado de los arreglos\n"
      ]
    },
    {
      "cell_type": "code",
      "metadata": {
        "id": "xbbtdouja4kY",
        "colab_type": "code",
        "colab": {
          "base_uri": "https://localhost:8080/",
          "height": 34
        },
        "outputId": "093ed7eb-9c00-4b83-a746-273e1a8d5e5f"
      },
      "source": [
        "date = dateinit\n",
        "fechascol=[]\n",
        "with progressbar.ProgressBar(max_value=55) as bar:\n",
        "  i=0\n",
        "  while(date != datefin):\n",
        "\n",
        "    # Italy\n",
        "    response=query(date,\"Italy\")\n",
        "    itCases.append(response[0])\n",
        "    itDeaths.append(response[1])\n",
        "    itRec.append(response[2])\n",
        "    \n",
        "    #Colombia\n",
        "    response=query(date,\"colombia\")\n",
        "    if(response != (0,0,0)):\n",
        "      colCases.append(response[0])\n",
        "      colDeaths.append(response[1])\n",
        "      colRec.append(response[2])\n",
        "      fechascol.append(date)\n",
        "\n",
        "    bar.update(i)\n",
        "    i+=1\n",
        "    date+=datetime.timedelta(days=1)"
      ],
      "execution_count": 38,
      "outputs": [
        {
          "output_type": "stream",
          "text": [
            "100% (55 of 55) |########################| Elapsed Time: 0:00:29 Time:  0:00:29\n"
          ],
          "name": "stderr"
        }
      ]
    },
    {
      "cell_type": "markdown",
      "metadata": {
        "id": "O0rZpsS7RfXp",
        "colab_type": "text"
      },
      "source": [
        "# Visualización"
      ]
    },
    {
      "cell_type": "code",
      "metadata": {
        "id": "62g_boD0qHui",
        "colab_type": "code",
        "colab": {
          "base_uri": "https://localhost:8080/",
          "height": 312
        },
        "outputId": "17ce52cb-990d-47d2-d418-b299b10543d3"
      },
      "source": [
        "import matplotlib.pyplot as plt\n",
        "%matplotlib inline\n",
        "\n",
        "\n",
        "fig, ax = plt.subplots(3, 2, sharex='col')\n",
        "\n",
        "\n",
        "ax[0,0].plot(itCases, 'r-*',label=\"Casos Italia\")\n",
        "ax[0,1].plot(colCases, 'b-*',label=\"Casos Colombia\")\n",
        "\n",
        "\n",
        "ax[1,0].plot(itDeaths, 'g-*',label=\"Muertes Italia\")\n",
        "ax[1,1].plot(colDeaths, 'k-*',label=\"Muertes Colombia\")\n",
        "#ax[1].legend(loc='center left', bbox_to_anchor=(1, 0.5))\n",
        "\n",
        "ax[2,0].plot(itRec, 'c-*',label=\"Recuperados Italia\")\n",
        "ax[2,1].plot(colRec, 'y-*',label=\"Recuperados Colombia\")\n",
        "#ax[2].legend(loc='center left', bbox_to_anchor=(1, 0.5))\n",
        "\n",
        "\n",
        "fig.legend(bbox_to_anchor=(1.05, 1.0), loc='upper left')"
      ],
      "execution_count": 35,
      "outputs": [
        {
          "output_type": "execute_result",
          "data": {
            "text/plain": [
              "<matplotlib.legend.Legend at 0x7fd265df66d8>"
            ]
          },
          "metadata": {
            "tags": []
          },
          "execution_count": 35
        },
        {
          "output_type": "display_data",
          "data": {
            "image/png": "[encoded data removed]",
            "text/plain": [
              "<Figure size 432x288 with 6 Axes>"
            ]
          },
          "metadata": {
            "tags": []
          }
        }
      ]
    },
    {
      "cell_type": "markdown",
      "metadata": {
        "id": "qNYY66QVVT00",
        "colab_type": "text"
      },
      "source": [
        "# Conversión a Dataset"
      ]
    },
    {
      "cell_type": "code",
      "metadata": {
        "id": "HffqyXWEVS59",
        "colab_type": "code",
        "colab": {}
      },
      "source": [
        "datait= pd.DataFrame(list(zip(itCases,itDeaths,itRec)),columns=[\"Casos\",\"Muertes\",\"Recuperados\"])\n",
        "datacol= pd.DataFrame(list(zip(colCases,colDeaths,colRec)),columns=[\"Casos\",\"Muertes\",\"Recuperados\"])"
      ],
      "execution_count": 0,
      "outputs": []
    },
    {
      "cell_type": "markdown",
      "metadata": {
        "id": "R5T-U5XIjMo-",
        "colab_type": "text"
      },
      "source": [
        "# Factor de infección"
      ]
    },
    {
      "cell_type": "code",
      "metadata": {
        "id": "mGmWUpPEjRhQ",
        "colab_type": "code",
        "colab": {}
      },
      "source": [
        "datait[\"Factor\"]=0\n",
        "for i in range(1, len(datait)):\n",
        "    datait.loc[i, 'Factor'] = datait.loc[i, 'Casos']/ datait.loc[i-1, 'Casos'] \n",
        "datait.index=fechasit\n",
        "datacol[\"Factor\"]=0\n",
        "for i in range(1, len(datacol)):\n",
        "    datacol.loc[i, 'Factor'] = datacol.loc[i, 'Casos']/ datacol.loc[i-1, 'Casos']\n",
        "datacol.index=fechascol"
      ],
      "execution_count": 0,
      "outputs": []
    },
    {
      "cell_type": "code",
      "metadata": {
        "id": "Ev7x_guQl6nI",
        "colab_type": "code",
        "colab": {
          "base_uri": "https://localhost:8080/",
          "height": 298
        },
        "outputId": "24766414-3f47-4b3e-ae26-17cc3502744d"
      },
      "source": [
        "plt.plot(datait.Factor,'--*')\n",
        "plt.title(\"Factor de infección Italia\")"
      ],
      "execution_count": 77,
      "outputs": [
        {
          "output_type": "execute_result",
          "data": {
            "text/plain": [
              "Text(0.5, 1.0, 'Factor de infección Italia')"
            ]
          },
          "metadata": {
            "tags": []
          },
          "execution_count": 77
        },
        {
          "output_type": "display_data",
          "data": {
            "image/png": "[encoded data removed]",
            "text/plain": [
              "<Figure size 432x288 with 1 Axes>"
            ]
          },
          "metadata": {
            "tags": []
          }
        }
      ]
    },
    {
      "cell_type": "code",
      "metadata": {
        "id": "QeEstXbbmt56",
        "colab_type": "code",
        "colab": {
          "base_uri": "https://localhost:8080/",
          "height": 298
        },
        "outputId": "04754b52-57d1-43d4-a8b0-00ca72e0e453"
      },
      "source": [
        "plt.plot(datacol.Factor,'--*')\n",
        "plt.title(\"Factor de infección Colombia\")"
      ],
      "execution_count": 78,
      "outputs": [
        {
          "output_type": "execute_result",
          "data": {
            "text/plain": [
              "Text(0.5, 1.0, 'Factor de infección Colombia')"
            ]
          },
          "metadata": {
            "tags": []
          },
          "execution_count": 78
        },
        {
          "output_type": "display_data",
          "data": {
            "image/png": "[encoded data removed]",
            "text/plain": [
              "<Figure size 432x288 with 1 Axes>"
            ]
          },
          "metadata": {
            "tags": []
          }
        }
      ]
    },
    {
      "cell_type": "markdown",
      "metadata": {
        "id": "NZAl3zEQjJBa",
        "colab_type": "text"
      },
      "source": [
        "# Descarga de Datasets resultantes"
      ]
    },
    {
      "cell_type": "code",
      "metadata": {
        "id": "fEZhqHM9jL4G",
        "colab_type": "code",
        "colab": {}
      },
      "source": [
        "datait.to_excel(\"italia.xlsx\")\n",
        "datacol.to_excel(\"colombia.xlsx\")"
      ],
      "execution_count": 0,
      "outputs": []
    }
  ]
}